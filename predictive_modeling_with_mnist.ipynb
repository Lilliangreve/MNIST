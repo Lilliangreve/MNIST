{
 "cells": [
  {
   "cell_type": "code",
   "execution_count": 35,
   "metadata": {},
   "outputs": [],
   "source": [
    "from keras.datasets import mnist\n",
    "import matplotlib.pyplot as plt\n",
    "import matplotlib as mpl\n",
    "import numpy as np\n",
    "import pandas as pd\n",
    "\n",
    "from sklearn import svm\n",
    "from sklearn.decomposition import PCA\n",
    "from sklearn.ensemble import RandomForestClassifier\n",
    "from sklearn.linear_model import LogisticRegression\n",
    "from sklearn.manifold import TSNE\n",
    "from sklearn.model_selection import GridSearchCV\n",
    "from sklearn.preprocessing import StandardScaler\n",
    "from sklearn.neural_network import MLPClassifier\n",
    "from sklearn.metrics import confusion_matrix\n",
    "from keras.models import Sequential\n",
    "from keras.layers import Dense, Activation\n",
    "from keras.losses import categorical_crossentropy\n",
    "from keras.optimizers import Adadelta\n",
    "from keras import regularizers\n"
   ]
  },
  {
   "cell_type": "markdown",
   "metadata": {},
   "source": [
    "## load in MNIST data"
   ]
  },
  {
   "cell_type": "code",
   "execution_count": 2,
   "metadata": {},
   "outputs": [],
   "source": [
    "(x_train, y_train), (x_test, y_test) = mnist.load_data()"
   ]
  },
  {
   "cell_type": "code",
   "execution_count": 3,
   "metadata": {},
   "outputs": [
    {
     "data": {
      "text/plain": [
       "(28, 28)"
      ]
     },
     "execution_count": 3,
     "metadata": {},
     "output_type": "execute_result"
    }
   ],
   "source": [
    "# Each image is a 28*28 matrix (784 when squished)\n",
    "x_train[0].shape"
   ]
  },
  {
   "cell_type": "code",
   "execution_count": 4,
   "metadata": {},
   "outputs": [
    {
     "data": {
      "text/plain": [
       "<matplotlib.image.AxesImage at 0x19fd4438>"
      ]
     },
     "execution_count": 4,
     "metadata": {},
     "output_type": "execute_result"
    },
    {
     "data": {
      "image/png": "[encoded data removed]",
      "text/plain": [
       "<Figure size 1080x1080 with 7 Axes>"
      ]
     },
     "metadata": {},
     "output_type": "display_data"
    }
   ],
   "source": [
    "# plot some of the images \n",
    "fig, ax = plt.subplots(1,7, figsize=(15,15))\n",
    "ax[0].imshow(x_train[0], cmap=mpl.cm.Greys)\n",
    "ax[1].imshow(x_train[1], cmap=mpl.cm.Greys)\n",
    "ax[2].imshow(x_train[2], cmap=mpl.cm.Greys)\n",
    "ax[3].imshow(x_train[3], cmap=mpl.cm.Greys)\n",
    "ax[4].imshow(x_train[4], cmap=mpl.cm.Greys)\n",
    "ax[5].imshow(x_train[5], cmap=mpl.cm.Greys)\n",
    "ax[6].imshow(x_train[6], cmap=mpl.cm.Greys)"
   ]
  },
  {
   "cell_type": "code",
   "execution_count": 5,
   "metadata": {},
   "outputs": [
    {
     "data": {
      "text/plain": [
       "((60000, 784), (60000,), (10000, 784), (10000,))"
      ]
     },
     "execution_count": 5,
     "metadata": {},
     "output_type": "execute_result"
    }
   ],
   "source": [
    "# reshape data for modeling\n",
    "x_train = x_train.reshape((60000, 784))\n",
    "x_test = x_test.reshape((10000, 784))\n",
    "x_train.shape, y_train.shape, x_test.shape, y_test.shape\n",
    "# use x_train.reshape((28,28)) to return it to its former format"
   ]
  },
  {
   "cell_type": "markdown",
   "metadata": {},
   "source": [
    "## Run PCA to reduce the dimensionality of the data"
   ]
  },
  {
   "cell_type": "code",
   "execution_count": 6,
   "metadata": {},
   "outputs": [
    {
     "name": "stderr",
     "output_type": "stream",
     "text": [
      "c:\\python\\python36\\lib\\site-packages\\sklearn\\utils\\validation.py:475: DataConversionWarning: Data with input dtype uint8 was converted to float64 by StandardScaler.\n",
      "  warnings.warn(msg, DataConversionWarning)\n"
     ]
    }
   ],
   "source": [
    "# PCA is effected by scale so you need to scale the features in the data before applying PCA.\n",
    "scaler = StandardScaler()\n",
    "# Fit on training set only.\n",
    "scaler.fit(x_train)\n",
    "# Apply transform to both the training set and the test set.\n",
    "x_train = scaler.transform(x_train)\n",
    "x_test = scaler.transform(x_test)"
   ]
  },
  {
   "cell_type": "code",
   "execution_count": 7,
   "metadata": {},
   "outputs": [],
   "source": [
    "# Select all components\n",
    "pca_all = PCA(n_components=784)\n",
    "pca_all.fit(x_train)\n",
    "eigenvalues_all = pca_all.explained_variance_\n",
    "\n",
    "# The top 50 components will be selected:\n",
    "pca_50 = PCA(n_components=50)\n",
    "pca_50.fit(x_train)\n",
    "eigenvalues_50 = pca_50.explained_variance_\n",
    "\n",
    "# The top 25 components will be selected:\n",
    "pca_25 = PCA(n_components=25)\n",
    "pca_25.fit(x_train)\n",
    "eigenvalues_25 = pca_25.explained_variance_\n"
   ]
  },
  {
   "cell_type": "code",
   "execution_count": 8,
   "metadata": {},
   "outputs": [
    {
     "data": {
      "text/plain": [
       "[<matplotlib.lines.Line2D at 0xfd16400>]"
      ]
     },
     "execution_count": 8,
     "metadata": {},
     "output_type": "execute_result"
    },
    {
     "data": {
      "image/png": "[encoded data removed]",
      "text/plain": [
       "<Figure size 1080x360 with 3 Axes>"
      ]
     },
     "metadata": {},
     "output_type": "display_data"
    }
   ],
   "source": [
    "fig, ax = plt.subplots(1,3, figsize=(15,5), sharey=True)\n",
    "\n",
    "ax[0].plot(range(784), eigenvalues_all)\n",
    "ax[1].plot(range(50), eigenvalues_50)\n",
    "ax[2].plot(range(25), eigenvalues_25)\n"
   ]
  },
  {
   "cell_type": "code",
   "execution_count": 9,
   "metadata": {},
   "outputs": [],
   "source": [
    "# dot product of eigenvectors and original data\n",
    "x_train_pca_all = pca_all.transform(x_train) \n",
    "x_test_pca_all = pca_all.transform(x_test)\n",
    "\n",
    "x_train_pca_50 = pca_50.transform(x_train) \n",
    "x_test_pca_50 = pca_50.transform(x_test)\n",
    "\n",
    "x_train_pca = pca_25.transform(x_train) \n",
    "x_test_pca = pca_25.transform(x_test)"
   ]
  },
  {
   "cell_type": "code",
   "execution_count": 10,
   "metadata": {},
   "outputs": [
    {
     "data": {
      "text/plain": [
       "array([0.05646717, 0.04078272, 0.0373938 , 0.02885115, 0.02521109,\n",
       "       0.0219427 , 0.01923344, 0.01745799, 0.01535092, 0.01401718,\n",
       "       0.0134174 , 0.01203735, 0.01114563, 0.01089885, 0.01028601,\n",
       "       0.00994312, 0.00936187, 0.00920922, 0.00893053, 0.00869746,\n",
       "       0.00826619, 0.00800928, 0.00763423, 0.00740956, 0.00712672])"
      ]
     },
     "execution_count": 10,
     "metadata": {},
     "output_type": "execute_result"
    }
   ],
   "source": [
    "# explained variance show much information (variance) that can be attributed to each of the principal components.\n",
    "pca_25.explained_variance_ratio_"
   ]
  },
  {
   "cell_type": "code",
   "execution_count": 11,
   "metadata": {},
   "outputs": [
    {
     "data": {
      "text/plain": [
       "<matplotlib.image.AxesImage at 0x15082f60>"
      ]
     },
     "execution_count": 11,
     "metadata": {},
     "output_type": "execute_result"
    },
    {
     "data": {
      "image/png": "[encoded data removed]",
      "text/plain": [
       "<Figure size 1080x1080 with 6 Axes>"
      ]
     },
     "metadata": {},
     "output_type": "display_data"
    }
   ],
   "source": [
    "# visualize the images for all three PCAs (should be 3 5s and 3 0s)\n",
    "fig, ax = plt.subplots(1,6, figsize=(15,15))\n",
    "\n",
    "r_image = pca_all.components_[0].reshape((28,28))\n",
    "r2_image = pca_50.components_[0].reshape((28,28))\n",
    "r3_image = pca_25.components_[0].reshape((28,28))\n",
    "\n",
    "\n",
    "r4_image = pca_all.components_[1].reshape((28,28))\n",
    "r5_image = pca_50.components_[1].reshape((28,28))\n",
    "r6_image = pca_25.components_[1].reshape((28,28))\n",
    "\n",
    "\n",
    "ax[0].imshow(r_image, cmap=mpl.cm.Greys)\n",
    "ax[1].imshow(r2_image, cmap=mpl.cm.Greys)\n",
    "ax[2].imshow(r3_image, cmap=mpl.cm.Greys)\n",
    "ax[3].imshow(r4_image, cmap=mpl.cm.Greys)\n",
    "ax[4].imshow(r5_image, cmap=mpl.cm.Greys)\n",
    "ax[5].imshow(r6_image, cmap=mpl.cm.Greys)"
   ]
  },
  {
   "cell_type": "code",
   "execution_count": 28,
   "metadata": {},
   "outputs": [
    {
     "data": {
      "text/plain": [
       "<matplotlib.image.AxesImage at 0x1c9bb8d0>"
      ]
     },
     "execution_count": 28,
     "metadata": {},
     "output_type": "execute_result"
    },
    {
     "data": {
      "image/png": "[encoded data removed]",
      "text/plain": [
       "<Figure size 1080x1080 with 6 Axes>"
      ]
     },
     "metadata": {},
     "output_type": "display_data"
    }
   ],
   "source": [
    "# reconstruct the images from the transformed data (should be 3 5s and 3 0s)\n",
    "\n",
    "fig, ax = plt.subplots(1, 6, figsize=(15,15))\n",
    "\n",
    "\n",
    "inv_pca = pca_25.inverse_transform(x_train_pca)\n",
    "r7_image = inv_pca[0].reshape((28,28))\n",
    "r8_image = inv_pca[1].reshape((28,28))\n",
    "\n",
    "inv_pca_50 = pca_50.inverse_transform(x_train_pca_50)\n",
    "r9_image = inv_pca_50[0].reshape((28,28))\n",
    "r10_image = inv_pca_50[1].reshape((28,28))\n",
    "\n",
    "inv_pca_all = pca_all.inverse_transform(x_train_pca_all)\n",
    "r11_image = inv_pca_all[0].reshape((28,28))\n",
    "r12_image = inv_pca_all[1].reshape((28,28))\n",
    "\n",
    "\n",
    "ax[0].imshow(r7_image, cmap=mpl.cm.Greys)\n",
    "ax[1].imshow(r8_image, cmap=mpl.cm.Greys)\n",
    "ax[2].imshow(r9_image, cmap=mpl.cm.Greys)\n",
    "\n",
    "ax[3].imshow(r10_image, cmap=mpl.cm.Greys)\n",
    "ax[4].imshow(r11_image, cmap=mpl.cm.Greys)\n",
    "ax[5].imshow(r12_image, cmap=mpl.cm.Greys)"
   ]
  },
  {
   "cell_type": "markdown",
   "metadata": {},
   "source": [
    "## Apply Models to the Transformed Data"
   ]
  },
  {
   "cell_type": "markdown",
   "metadata": {},
   "source": [
    "### Logistic Regression"
   ]
  },
  {
   "cell_type": "code",
   "execution_count": 29,
   "metadata": {},
   "outputs": [
    {
     "data": {
      "text/plain": [
       "GridSearchCV(cv=5, error_score='raise',\n",
       "       estimator=LogisticRegression(C=1.0, class_weight=None, dual=False, fit_intercept=True,\n",
       "          intercept_scaling=1, max_iter=100, multi_class='ovr', n_jobs=1,\n",
       "          penalty='l2', random_state=42, solver='liblinear', tol=0.0001,\n",
       "          verbose=0, warm_start=False),\n",
       "       fit_params=None, iid=True, n_jobs=1,\n",
       "       param_grid={'C': [100, 1000], 'penalty': ['l1', 'l2']},\n",
       "       pre_dispatch='2*n_jobs', refit=True, return_train_score='warn',\n",
       "       scoring=None, verbose=0)"
      ]
     },
     "execution_count": 29,
     "metadata": {},
     "output_type": "execute_result"
    }
   ],
   "source": [
    "# apply logistic regression\n",
    "logreg = LogisticRegression(random_state = 42)\n",
    "\n",
    "param_grid = {'C': [100, 1000],  # regularization parameter\n",
    "              'penalty': ['l1', 'l2'],  # regularization penalty\n",
    "             }\n",
    "logreg_grid = GridSearchCV(logreg,\n",
    "                           param_grid,\n",
    "                           cv=5,\n",
    "                           verbose=0)\n",
    "\n",
    "logreg_grid.fit(x_train_pca, y_train)"
   ]
  },
  {
   "cell_type": "code",
   "execution_count": 30,
   "metadata": {},
   "outputs": [
    {
     "name": "stdout",
     "output_type": "stream",
     "text": [
      "mean: 0.86360, std: 0.00764, params: {'C': 100, 'penalty': 'l1'}\n",
      "mean: 0.86360, std: 0.00764, params: {'C': 100, 'penalty': 'l2'}\n",
      "mean: 0.86360, std: 0.00764, params: {'C': 1000, 'penalty': 'l1'}\n",
      "mean: 0.86360, std: 0.00764, params: {'C': 1000, 'penalty': 'l2'}\n",
      "\n",
      "Best Train score: 0.8636\n",
      "Best Test score:0.8681\n",
      "\n",
      "---------best parameters---------\n",
      "C: 100\n",
      "penalty: 'l1'\n"
     ]
    },
    {
     "name": "stderr",
     "output_type": "stream",
     "text": [
      "c:\\python\\python36\\lib\\site-packages\\sklearn\\model_selection\\_search.py:761: DeprecationWarning: The grid_scores_ attribute was deprecated in version 0.18 in favor of the more elaborate cv_results_ attribute. The grid_scores_ attribute will not be available from 0.20\n",
      "  DeprecationWarning)\n"
     ]
    }
   ],
   "source": [
    "results = logreg_grid.grid_scores_\n",
    "for result in results:\n",
    "    print(result)\n",
    "print(\"\\nBest Train score: %0.4f\" % logreg_grid.best_score_)\n",
    "print(\"Best Test score:%0.4f\\n\" % logreg_grid.score(x_test_pca, y_test))\n",
    "print (\"---------best parameters---------\")\n",
    "best_parameters = logreg_grid.best_estimator_.get_params()\n",
    "for param_name in sorted(param_grid.keys()):\n",
    "    print (\"%s: %r\" % (param_name, best_parameters[param_name])) "
   ]
  },
  {
   "cell_type": "code",
   "execution_count": 31,
   "metadata": {},
   "outputs": [
    {
     "name": "stdout",
     "output_type": "stream",
     "text": [
      "[7] 7\n"
     ]
    }
   ],
   "source": [
    "# sample predict\n",
    "print(logreg_grid.predict(x_test_pca[0].reshape(1,-1)), y_test[0])"
   ]
  },
  {
   "cell_type": "markdown",
   "metadata": {},
   "source": [
    "### Random Forest"
   ]
  },
  {
   "cell_type": "code",
   "execution_count": 133,
   "metadata": {},
   "outputs": [
    {
     "data": {
      "text/plain": [
       "GridSearchCV(cv=None, error_score='raise',\n",
       "       estimator=RandomForestClassifier(bootstrap=True, class_weight=None, criterion='gini',\n",
       "            max_depth=None, max_features='auto', max_leaf_nodes=None,\n",
       "            min_impurity_decrease=0.0, min_impurity_split=None,\n",
       "            min_samples_leaf=1, min_samples_split=2,\n",
       "            min_weight_fraction_leaf=0.0, n_estimators=10, n_jobs=1,\n",
       "            oob_score=False, random_state=42, verbose=0, warm_start=False),\n",
       "       fit_params=None, iid=True, n_jobs=-1,\n",
       "       param_grid={'n_estimators': [20, 200], 'max_depth': [8, 10, 12], 'min_samples_split': [5, 10], 'min_samples_leaf': [2, 4]},\n",
       "       pre_dispatch='2*n_jobs', refit=True, return_train_score='warn',\n",
       "       scoring=None, verbose=0)"
      ]
     },
     "execution_count": 133,
     "metadata": {},
     "output_type": "execute_result"
    }
   ],
   "source": [
    "RF = RandomForestClassifier(random_state = 42)\n",
    "\n",
    "param_grid = {'n_estimators': [20, 200],\n",
    "               'max_depth': [8,10,12],\n",
    "               'min_samples_split': [5, 10],\n",
    "               'min_samples_leaf': [2, 4]\n",
    "             }\n",
    "RF_grid = GridSearchCV(RF \n",
    "                    , param_grid = param_grid\n",
    "                    , n_jobs = -1\n",
    "                   )\n",
    "RF_grid.fit(x_train_pca, y_train)"
   ]
  },
  {
   "cell_type": "code",
   "execution_count": 134,
   "metadata": {},
   "outputs": [
    {
     "name": "stderr",
     "output_type": "stream",
     "text": [
      "c:\\python\\python36\\lib\\site-packages\\sklearn\\model_selection\\_search.py:761: DeprecationWarning: The grid_scores_ attribute was deprecated in version 0.18 in favor of the more elaborate cv_results_ attribute. The grid_scores_ attribute will not be available from 0.20\n",
      "  DeprecationWarning)\n"
     ]
    },
    {
     "name": "stdout",
     "output_type": "stream",
     "text": [
      "mean: 0.86525, std: 0.00410, params: {'max_depth': 8, 'min_samples_leaf': 2, 'min_samples_split': 5, 'n_estimators': 20}\n",
      "mean: 0.87863, std: 0.00447, params: {'max_depth': 8, 'min_samples_leaf': 2, 'min_samples_split': 5, 'n_estimators': 200}\n",
      "mean: 0.86300, std: 0.00410, params: {'max_depth': 8, 'min_samples_leaf': 2, 'min_samples_split': 10, 'n_estimators': 20}\n",
      "mean: 0.87690, std: 0.00460, params: {'max_depth': 8, 'min_samples_leaf': 2, 'min_samples_split': 10, 'n_estimators': 200}\n",
      "mean: 0.86275, std: 0.00323, params: {'max_depth': 8, 'min_samples_leaf': 4, 'min_samples_split': 5, 'n_estimators': 20}\n",
      "mean: 0.87700, std: 0.00429, params: {'max_depth': 8, 'min_samples_leaf': 4, 'min_samples_split': 5, 'n_estimators': 200}\n",
      "mean: 0.86067, std: 0.00438, params: {'max_depth': 8, 'min_samples_leaf': 4, 'min_samples_split': 10, 'n_estimators': 20}\n",
      "mean: 0.87620, std: 0.00492, params: {'max_depth': 8, 'min_samples_leaf': 4, 'min_samples_split': 10, 'n_estimators': 200}\n",
      "mean: 0.89152, std: 0.00232, params: {'max_depth': 10, 'min_samples_leaf': 2, 'min_samples_split': 5, 'n_estimators': 20}\n",
      "mean: 0.90315, std: 0.00326, params: {'max_depth': 10, 'min_samples_leaf': 2, 'min_samples_split': 5, 'n_estimators': 200}\n",
      "mean: 0.89193, std: 0.00349, params: {'max_depth': 10, 'min_samples_leaf': 2, 'min_samples_split': 10, 'n_estimators': 20}\n",
      "mean: 0.90300, std: 0.00324, params: {'max_depth': 10, 'min_samples_leaf': 2, 'min_samples_split': 10, 'n_estimators': 200}\n",
      "mean: 0.88977, std: 0.00367, params: {'max_depth': 10, 'min_samples_leaf': 4, 'min_samples_split': 5, 'n_estimators': 20}\n",
      "mean: 0.90235, std: 0.00374, params: {'max_depth': 10, 'min_samples_leaf': 4, 'min_samples_split': 5, 'n_estimators': 200}\n",
      "mean: 0.89240, std: 0.00364, params: {'max_depth': 10, 'min_samples_leaf': 4, 'min_samples_split': 10, 'n_estimators': 20}\n",
      "mean: 0.90218, std: 0.00268, params: {'max_depth': 10, 'min_samples_leaf': 4, 'min_samples_split': 10, 'n_estimators': 200}\n",
      "mean: 0.90770, std: 0.00291, params: {'max_depth': 12, 'min_samples_leaf': 2, 'min_samples_split': 5, 'n_estimators': 20}\n",
      "mean: 0.91897, std: 0.00300, params: {'max_depth': 12, 'min_samples_leaf': 2, 'min_samples_split': 5, 'n_estimators': 200}\n",
      "mean: 0.90703, std: 0.00279, params: {'max_depth': 12, 'min_samples_leaf': 2, 'min_samples_split': 10, 'n_estimators': 20}\n",
      "mean: 0.91800, std: 0.00310, params: {'max_depth': 12, 'min_samples_leaf': 2, 'min_samples_split': 10, 'n_estimators': 200}\n",
      "mean: 0.90710, std: 0.00400, params: {'max_depth': 12, 'min_samples_leaf': 4, 'min_samples_split': 5, 'n_estimators': 20}\n",
      "mean: 0.91685, std: 0.00322, params: {'max_depth': 12, 'min_samples_leaf': 4, 'min_samples_split': 5, 'n_estimators': 200}\n",
      "mean: 0.90632, std: 0.00238, params: {'max_depth': 12, 'min_samples_leaf': 4, 'min_samples_split': 10, 'n_estimators': 20}\n",
      "mean: 0.91785, std: 0.00316, params: {'max_depth': 12, 'min_samples_leaf': 4, 'min_samples_split': 10, 'n_estimators': 200}\n",
      "\n",
      "Best Train score: 0.9190\n",
      "Best Test score:0.9201\n",
      "\n",
      "---------best parameters---------\n",
      "max_depth: 12\n",
      "min_samples_leaf: 2\n",
      "min_samples_split: 5\n",
      "n_estimators: 200\n"
     ]
    }
   ],
   "source": [
    "results = RF_grid.grid_scores_\n",
    "for result in results:\n",
    "    print(result)\n",
    "print(\"\\nBest Train score: %0.4f\" % RF_grid.best_score_)\n",
    "print(\"Best Test score:%0.4f\\n\" % RF_grid.score(x_test_pca, y_test))\n",
    "print (\"---------best parameters---------\")\n",
    "best_parameters = RF_grid.best_estimator_.get_params()\n",
    "for param_name in sorted(param_grid.keys()):\n",
    "    print (\"%s: %r\" % (param_name, best_parameters[param_name])) "
   ]
  },
  {
   "cell_type": "markdown",
   "metadata": {},
   "source": [
    "### Support Vector Machines"
   ]
  },
  {
   "cell_type": "code",
   "execution_count": 137,
   "metadata": {},
   "outputs": [
    {
     "data": {
      "text/plain": [
       "GridSearchCV(cv=None, error_score='raise',\n",
       "       estimator=SVC(C=1.0, cache_size=200, class_weight=None, coef0=0.0,\n",
       "  decision_function_shape='ovr', degree=3, gamma='auto', kernel='rbf',\n",
       "  max_iter=-1, probability=False, random_state=42, shrinking=True,\n",
       "  tol=0.001, verbose=False),\n",
       "       fit_params=None, iid=True, n_jobs=-1,\n",
       "       param_grid={'C': [10, 1.0, 0.1], 'kernel': ['linear', 'rbf']},\n",
       "       pre_dispatch='2*n_jobs', refit=True, return_train_score='warn',\n",
       "       scoring='accuracy', verbose=0)"
      ]
     },
     "execution_count": 137,
     "metadata": {},
     "output_type": "execute_result"
    }
   ],
   "source": [
    "SVM = svm.SVC(random_state = 42) \n",
    "\n",
    "param_grid = {'C': [10, 1.0, 0.1],\n",
    "              'kernel':['linear', 'rbf']\n",
    "             }\n",
    "SVM_grid = GridSearchCV(SVM,\n",
    "                        param_grid = param_grid,\n",
    "                        scoring = 'accuracy',\n",
    "                        n_jobs = -1,\n",
    "                        cv=None\n",
    "                       )\n",
    "\n",
    "SVM_grid.fit(x_train_pca, y_train)"
   ]
  },
  {
   "cell_type": "code",
   "execution_count": 139,
   "metadata": {},
   "outputs": [
    {
     "name": "stderr",
     "output_type": "stream",
     "text": [
      "c:\\python\\python36\\lib\\site-packages\\sklearn\\model_selection\\_search.py:761: DeprecationWarning: The grid_scores_ attribute was deprecated in version 0.18 in favor of the more elaborate cv_results_ attribute. The grid_scores_ attribute will not be available from 0.20\n",
      "  DeprecationWarning)\n"
     ]
    },
    {
     "name": "stdout",
     "output_type": "stream",
     "text": [
      "mean: 0.90890, std: 0.00188, params: {'C': 10, 'kernel': 'linear'}\n",
      "mean: 0.86483, std: 0.00606, params: {'C': 10, 'kernel': 'rbf'}\n",
      "mean: 0.90883, std: 0.00174, params: {'C': 1.0, 'kernel': 'linear'}\n",
      "mean: 0.85465, std: 0.00547, params: {'C': 1.0, 'kernel': 'rbf'}\n",
      "mean: 0.90887, std: 0.00190, params: {'C': 0.1, 'kernel': 'linear'}\n",
      "mean: 0.59387, std: 0.00743, params: {'C': 0.1, 'kernel': 'rbf'}\n",
      "\n",
      "Best Train score: 0.9089\n",
      "Best Test score: 0.9137\n",
      "\n",
      "---------best parameters---------\n",
      "C: 10\n",
      "kernel: 'linear'\n"
     ]
    }
   ],
   "source": [
    "results = SVM_grid.grid_scores_\n",
    "for result in results:\n",
    "    print(result)\n",
    "print(\"\\nBest Train score: %0.4f\" % SVM_grid.best_score_)\n",
    "print(\"Best Test score: %0.4f\\n\" % SVM_grid.score(x_test_pca, y_test))\n",
    "print (\"---------best parameters---------\")\n",
    "best_parameters = SVM_grid.best_estimator_.get_params()\n",
    "for param_name in sorted(param_grid.keys()):\n",
    "    print (\"%s: %r\" % (param_name, best_parameters[param_name])) "
   ]
  },
  {
   "cell_type": "markdown",
   "metadata": {},
   "source": [
    "### Neural Networks - Multi-Layer Perceptron Classifier model"
   ]
  },
  {
   "cell_type": "code",
   "execution_count": 174,
   "metadata": {},
   "outputs": [
    {
     "data": {
      "text/plain": [
       "MLPClassifier(activation='relu', alpha=0.0001, batch_size='auto', beta_1=0.9,\n",
       "       beta_2=0.999, early_stopping=False, epsilon=1e-08,\n",
       "       hidden_layer_sizes=(25, 25, 25), learning_rate='constant',\n",
       "       learning_rate_init=0.001, max_iter=1000, momentum=0.9,\n",
       "       nesterovs_momentum=True, power_t=0.5, random_state=42, shuffle=True,\n",
       "       solver='adam', tol=0.0001, validation_fraction=0.1, verbose=False,\n",
       "       warm_start=False)"
      ]
     },
     "execution_count": 174,
     "metadata": {},
     "output_type": "execute_result"
    }
   ],
   "source": [
    "# set hidden_layer_sizes with a tuple consisting of the number of neurons you want at each layer, where the nth entry in the tuple represents \n",
    "# the number of neurons in the nth layer of the MLP model, e.g. 3 layers with 25 neurons (== number of features)\n",
    "mlp = MLPClassifier(hidden_layer_sizes=(25,25,25), max_iter = 1000, random_state = 42) \n",
    "mlp.fit(x_train_pca, y_train)"
   ]
  },
  {
   "cell_type": "code",
   "execution_count": 175,
   "metadata": {},
   "outputs": [
    {
     "name": "stdout",
     "output_type": "stream",
     "text": [
      "train score: 0.9704666666666667\n",
      "test score: 0.9552\n",
      "[[ 960    0    3    1    2    2    4    1    6    1]\n",
      " [   0 1119    2    2    0    1    4    2    5    0]\n",
      " [   6    4  980    7    4    0    4    9   16    2]\n",
      " [   0    0    7  958    0    9    0   13   18    5]\n",
      " [   0    1    7    0  940    1    8    6    3   16]\n",
      " [   3    0    0   26    1  835    7    2   16    2]\n",
      " [   7    4    1    1    7   12  921    2    3    0]\n",
      " [   2    3   11    1    5    0    0  984    4   18]\n",
      " [   5    0    7   20    5   14    2    5  914    2]\n",
      " [   5    4    0    7   17    7    1   17   10  941]]\n"
     ]
    }
   ],
   "source": [
    "predictions = mlp.predict(x_test_pca)\n",
    "print(\"train score:\", mlp.score(x_train_pca, y_train)) \n",
    "print(\"test score:\", mlp.score(x_test_pca, y_test)) \n",
    "print(confusion_matrix(y_test, predictions))\n",
    "# same result with 500 vs 1000 max_iter"
   ]
  },
  {
   "cell_type": "code",
   "execution_count": 176,
   "metadata": {},
   "outputs": [
    {
     "name": "stdout",
     "output_type": "stream",
     "text": [
      "[7 2 1 0 4 1 4 9 5 9 0 6 9 0 1 5 9 7 8 4 9 6 6 5 4 0 7 4 0 1 3 1 3 4 7] \n",
      " [7 2 1 0 4 1 4 9 5 9 0 6 9 0 1 5 9 7 3 4 9 6 6 5 4 0 7 4 0 1 3 1 3 4 7]\n"
     ]
    }
   ],
   "source": [
    "print(mlp.predict(x_test_pca[:35]),\"\\n\", y_test[:35])"
   ]
  },
  {
   "cell_type": "markdown",
   "metadata": {},
   "source": [
    "### Neural Network - Sequential from Keras"
   ]
  },
  {
   "cell_type": "code",
   "execution_count": 32,
   "metadata": {},
   "outputs": [],
   "source": [
    "# create dummies for output\n",
    "y_test_dummies = pd.DataFrame(y_test)\n",
    "y_test_dummies = pd.get_dummies(y_test_dummies.loc[:,0])\n",
    "y_train_dummies = pd.DataFrame(y_train)\n",
    "y_train_dummies = pd.get_dummies(y_train_dummies.loc[:,0])"
   ]
  },
  {
   "cell_type": "code",
   "execution_count": 33,
   "metadata": {},
   "outputs": [
    {
     "data": {
      "text/plain": [
       "(60000, 784)"
      ]
     },
     "execution_count": 33,
     "metadata": {},
     "output_type": "execute_result"
    }
   ],
   "source": [
    "x_train.shape"
   ]
  },
  {
   "cell_type": "code",
   "execution_count": 48,
   "metadata": {},
   "outputs": [],
   "source": [
    "model = Sequential([\n",
    "    Dense(512, input_shape=(25,), kernel_regularizer=regularizers.l2(0.01)),  #10 digits\n",
    "    Activation('elu'), \n",
    "    Dense(256, kernel_regularizer=regularizers.l2(0.01)),  # second layer\n",
    "    Activation('elu'),\n",
    "    Dense(128, kernel_regularizer=regularizers.l2(0.01)),  # second layer\n",
    "    Activation('elu'),\n",
    "    Dense(10),\n",
    "    Activation('softmax')  # 10 dummy values for each number--> use 'softmax'\n",
    "])\n",
    "\n",
    "# note: if we had softmax in our hidden layers + cross-entropy loss function, the NN would function exactly like a logistics regression in the \n",
    "# hidden units, and all the parameters would be estimated by maximum likelihood.\n",
    "model.compile(loss = categorical_crossentropy, optimizer=Adadelta(), metrics=['accuracy'])\n",
    "\n",
    "history = model.fit(x_train_pca, y_train_dummies, validation_split = 0.33, epochs=30, batch_size=512, verbose = 0)\n"
   ]
  },
  {
   "cell_type": "code",
   "execution_count": 49,
   "metadata": {},
   "outputs": [
    {
     "name": "stdout",
     "output_type": "stream",
     "text": [
      "10000/10000 [==============================] - 0s 14us/step\n",
      "60000/60000 [==============================] - 1s 14us/step\n"
     ]
    }
   ],
   "source": [
    "preds = model.predict_classes(x_test_pca, verbose=0)\n",
    "score_test = model.evaluate(x_test_pca, y_test_dummies, batch_size = 512)\n",
    "score_train = model.evaluate(x_train_pca, y_train_dummies, batch_size = 512)"
   ]
  },
  {
   "cell_type": "code",
   "execution_count": 50,
   "metadata": {},
   "outputs": [
    {
     "name": "stdout",
     "output_type": "stream",
     "text": [
      "Test Score:  [0.3508130168437958, 0.9410000003814697] Train Score:  [0.3525863605817159, 0.9399000000317892]\n"
     ]
    }
   ],
   "source": [
    "print(\"Test Score: \", score_test, \"Train Score: \", score_train) \n",
    "# relu: 35 epochs: 97.24 test, 99.97 train; 25 epochs: 97.03 test, 98.69 train\n",
    "#                                      elu: 25 epochs: 96.41 test, 97.68 train"
   ]
  },
  {
   "cell_type": "code",
   "execution_count": 51,
   "metadata": {},
   "outputs": [
    {
     "name": "stdout",
     "output_type": "stream",
     "text": [
      "[7 2 1 0 4 1 4 4 8 9 0 6 9 0 1 5 9 7 3 4 9 6 6 5 4 0 7 4 0 1 3 1 3 6 7] \n",
      " [7 2 1 0 4 1 4 9 5 9 0 6 9 0 1 5 9 7 3 4 9 6 6 5 4 0 7 4 0 1 3 1 3 4 7]\n"
     ]
    }
   ],
   "source": [
    "print(preds[:35],\"\\n\", y_test[:35])"
   ]
  },
  {
   "cell_type": "code",
   "execution_count": 52,
   "metadata": {},
   "outputs": [
    {
     "name": "stdout",
     "output_type": "stream",
     "text": [
      "[[ 964    0    2    2    0    4    3    1    4    0]\n",
      " [   0 1122    4    2    1    1    3    0    2    0]\n",
      " [   7    3  988   11    3    0    1    9    9    1]\n",
      " [   0    6   12  951    1   16    0    9   11    4]\n",
      " [   1    1    9    0  928    1    9    1    3   29]\n",
      " [   6    1    2   16    2  837    6    1   14    7]\n",
      " [  18    4    4    1    8    9  906    0    8    0]\n",
      " [   1   22   20    5    4    0    0  921    0   55]\n",
      " [   8    3   12   29    8   22    5    4  868   15]\n",
      " [   6   11    0   13   28    5    1   12    8  925]]\n"
     ]
    }
   ],
   "source": [
    "print(confusion_matrix(y_test, preds))"
   ]
  },
  {
   "cell_type": "code",
   "execution_count": 53,
   "metadata": {},
   "outputs": [
    {
     "data": {
      "text/plain": [
       "<matplotlib.legend.Legend at 0x2026bc50>"
      ]
     },
     "execution_count": 53,
     "metadata": {},
     "output_type": "execute_result"
    },
    {
     "data": {
      "image/png": "[encoded data removed]",
      "text/plain": [
       "<Figure size 1080x360 with 2 Axes>"
      ]
     },
     "metadata": {},
     "output_type": "display_data"
    }
   ],
   "source": [
    "# summarize history for loss\n",
    "fig, ax = plt.subplots(1,2, figsize=(15,5))\n",
    "\n",
    "ax[0].plot(history.history['loss'])\n",
    "ax[0].plot(history.history['val_loss'])\n",
    "ax[0].set_title('model loss')\n",
    "ax[0].set_ylabel('loss')\n",
    "ax[0].set_xlabel('epoch')\n",
    "ax[0].legend(['train', 'validation'], loc='upper right')\n",
    "ax[1].plot(history.history['acc'])\n",
    "ax[1].plot(history.history['val_acc'])\n",
    "ax[1].set_title('model accuracy')\n",
    "ax[1].set_ylabel('accuracy')\n",
    "ax[1].set_xlabel('epoch')\n",
    "ax[1].legend(['train', 'validation'], loc='upper left')"
   ]
  },
  {
   "cell_type": "code",
   "execution_count": null,
   "metadata": {},
   "outputs": [],
   "source": []
  }
 ],
 "metadata": {
  "kernelspec": {
   "display_name": "Python 3",
   "language": "python",
   "name": "python3"
  },
  "language_info": {
   "codemirror_mode": {
    "name": "ipython",
    "version": 3
   },
   "file_extension": ".py",
   "mimetype": "text/x-python",
   "name": "python",
   "nbconvert_exporter": "python",
   "pygments_lexer": "ipython3",
   "version": "3.6.5"
  }
 },
 "nbformat": 4,
 "nbformat_minor": 2
}
